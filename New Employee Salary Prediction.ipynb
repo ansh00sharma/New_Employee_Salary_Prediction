{
 "cells": [
  {
   "cell_type": "markdown",
   "id": "0c622138",
   "metadata": {},
   "source": [
    "# Q1. Your views about the problem statement?\n",
    "\n",
    "The Problem Statement is Faily Clear, We have to Devise a Machine Learning Model of Predictive Analysis\n",
    "for determining the salary of newly hired employees using the given data. So we have to define an Approach and perform the task required in a proper way to get a meaningful and valuable Machine Learning model for our Salary Prediction Based on certain Predictors which we are provided like, Previous CTC, College studied from, Graduation Marks , Experience etc."
   ]
  },
  {
   "cell_type": "markdown",
   "id": "2ddcbeca",
   "metadata": {},
   "source": [
    "# Importing Librarys"
   ]
  },
  {
   "cell_type": "code",
   "execution_count": 1,
   "id": "e10d35f4",
   "metadata": {},
   "outputs": [],
   "source": [
    "import numpy as np\n",
    "import pandas as pd\n",
    "import seaborn as sns\n",
    "import statsmodels.api as sn \n",
    "import statsmodels.discrete.discrete_model as sm\n",
    "from sklearn.model_selection import train_test_split\n",
    "from sklearn.linear_model import LinearRegression, Ridge,Lasso, LogisticRegression\n",
    "from sklearn.model_selection import train_test_split,validation_curve, GridSearchCV\n",
    "from sklearn.metrics import r2_score,confusion_matrix, precision_score, recall_score,roc_auc_score,mean_squared_error,accuracy_score\n",
    "from sklearn import preprocessing\n",
    "from sklearn.discriminant_analysis import LinearDiscriminantAnalysis\n",
    "from sklearn.neighbors import KNeighborsClassifier, KNeighborsRegressor\n",
    "from sklearn.tree import DecisionTreeRegressor, DecisionTreeClassifier\n",
    "from sklearn.ensemble import BaggingClassifier, RandomForestClassifier, GradientBoostingClassifier,AdaBoostClassifier\n",
    "from sklearn.ensemble import BaggingRegressor, RandomForestRegressor,GradientBoostingRegressor,AdaBoostRegressor\n",
    "import xgboost as xgb\n",
    "from IPython.display import Image\n",
    "import pydotplus"
   ]
  },
  {
   "cell_type": "markdown",
   "id": "6ca50277",
   "metadata": {},
   "source": [
    "# Q2. What will be your approach to solving this task?\n",
    "\n",
    "1. Starting from the first Step that is Importing Data into a DataFrame, as we know we were given 3 differnt Files and by Reorganising and changing some values we have to get a single DataFrame (df) to start with.\n",
    "2. After getting all data into Single df we have to do Preprocessing of Data. It is the most important aspect of making a model work better and give accurate Predictions.It Includes various Tasks like Imputing null values, checking for outliers and skewness,correct data types in Column etc.\n",
    "3. After Preprocessing comes the Task of selecting a Model which can using the given data can produce accurate and correct results. Choosing a Model is a hectic and complicated task, many things like whether the model will be able to work properly on small dataset or not, how will it behave if we have high variance, wthether it is a classification problem or regression problem etc have to be taken care of.\n",
    "4. Last but not least is the hyper parameter tuning and use of ensemble models. Hyper parameter tuninig is done to choose the perfect parameters of our models amidst given large list of values to choose from, it not only takes time but also tweeks the edges of the data to product most effective results.\n",
    "5. For performance analysis of Different models we will be considering Mean_Square_error and R2_score values since Accuracy cant be measured on continous Values.\n",
    "\n"
   ]
  },
  {
   "cell_type": "markdown",
   "id": "fb60c7b3",
   "metadata": {},
   "source": [
    "# Importing Data"
   ]
  },
  {
   "cell_type": "code",
   "execution_count": 2,
   "id": "5af4ff6c",
   "metadata": {},
   "outputs": [],
   "source": [
    "df = pd.read_csv('Case_Data.csv')         # Importing data through main file as a dataframe (df)"
   ]
  },
  {
   "cell_type": "markdown",
   "id": "4babed32",
   "metadata": {},
   "source": [
    "### Changing Categorical Data into Numerical Data."
   ]
  },
  {
   "cell_type": "code",
   "execution_count": 3,
   "id": "ff1b2c49",
   "metadata": {},
   "outputs": [],
   "source": [
    "colleges = pd.read_csv(\"Colleges.csv\")\n",
    "Tier_1 = colleges['Tier 1'].tolist()          # Changing the columns into list so it will be easier to iterate over them.\n",
    "Tier_2 = colleges['Tier 2'].tolist()\n",
    "Tier_3 = colleges['Tier 3'].tolist()\n",
    "\n",
    "for item in df.College:\n",
    "    if item in Tier_1: \n",
    "        df['College'].replace(item,1,inplace=True)      # Replacing tier1,tier2,tier3 with 1,2,3 respectively for numerical\n",
    "    elif item in Tier_2:                                # calulations.\n",
    "        df['College'].replace(item,2,inplace=True)\n",
    "    elif item in Tier_3:\n",
    "        df['College'].replace(item,3,inplace=True)"
   ]
  },
  {
   "cell_type": "code",
   "execution_count": 4,
   "id": "d110173d",
   "metadata": {},
   "outputs": [],
   "source": [
    "cities = pd.read_csv('cities.csv')\n",
    "Metro = cities['Metrio City'].tolist()\n",
    "Non_Metro = cities['non-metro cities'].tolist()\n",
    "\n",
    "for item in df.City:\n",
    "    if item in Metro:\n",
    "        df['City'].replace(item,1,inplace=True)         # Replacing metro and non-metro city with 1 and 0 for same numerical \n",
    "    elif item in Non_Metro:                             # calculation reason.\n",
    "        df['City'].replace(item,0,inplace=True)\n",
    "        \n"
   ]
  },
  {
   "cell_type": "code",
   "execution_count": 5,
   "id": "7ccb7313",
   "metadata": {},
   "outputs": [
    {
     "data": {
      "text/html": [
       "<div>\n",
       "<style scoped>\n",
       "    .dataframe tbody tr th:only-of-type {\n",
       "        vertical-align: middle;\n",
       "    }\n",
       "\n",
       "    .dataframe tbody tr th {\n",
       "        vertical-align: top;\n",
       "    }\n",
       "\n",
       "    .dataframe thead th {\n",
       "        text-align: right;\n",
       "    }\n",
       "</style>\n",
       "<table border=\"1\" class=\"dataframe\">\n",
       "  <thead>\n",
       "    <tr style=\"text-align: right;\">\n",
       "      <th></th>\n",
       "      <th>College</th>\n",
       "      <th>City</th>\n",
       "      <th>Previous CTC</th>\n",
       "      <th>Previous job change</th>\n",
       "      <th>Graduation Marks</th>\n",
       "      <th>EXP (Month)</th>\n",
       "      <th>CTC</th>\n",
       "      <th>Executive</th>\n",
       "    </tr>\n",
       "  </thead>\n",
       "  <tbody>\n",
       "    <tr>\n",
       "      <th>0</th>\n",
       "      <td>2</td>\n",
       "      <td>0</td>\n",
       "      <td>55523.0</td>\n",
       "      <td>3</td>\n",
       "      <td>66</td>\n",
       "      <td>19</td>\n",
       "      <td>71406.58</td>\n",
       "      <td>0</td>\n",
       "    </tr>\n",
       "    <tr>\n",
       "      <th>1</th>\n",
       "      <td>2</td>\n",
       "      <td>0</td>\n",
       "      <td>57081.0</td>\n",
       "      <td>1</td>\n",
       "      <td>84</td>\n",
       "      <td>18</td>\n",
       "      <td>68005.87</td>\n",
       "      <td>1</td>\n",
       "    </tr>\n",
       "    <tr>\n",
       "      <th>2</th>\n",
       "      <td>3</td>\n",
       "      <td>0</td>\n",
       "      <td>60347.0</td>\n",
       "      <td>2</td>\n",
       "      <td>52</td>\n",
       "      <td>28</td>\n",
       "      <td>76764.02</td>\n",
       "      <td>1</td>\n",
       "    </tr>\n",
       "    <tr>\n",
       "      <th>3</th>\n",
       "      <td>3</td>\n",
       "      <td>0</td>\n",
       "      <td>49010.0</td>\n",
       "      <td>2</td>\n",
       "      <td>81</td>\n",
       "      <td>33</td>\n",
       "      <td>82092.39</td>\n",
       "      <td>1</td>\n",
       "    </tr>\n",
       "    <tr>\n",
       "      <th>4</th>\n",
       "      <td>1</td>\n",
       "      <td>0</td>\n",
       "      <td>57879.0</td>\n",
       "      <td>4</td>\n",
       "      <td>74</td>\n",
       "      <td>32</td>\n",
       "      <td>73878.10</td>\n",
       "      <td>1</td>\n",
       "    </tr>\n",
       "    <tr>\n",
       "      <th>...</th>\n",
       "      <td>...</td>\n",
       "      <td>...</td>\n",
       "      <td>...</td>\n",
       "      <td>...</td>\n",
       "      <td>...</td>\n",
       "      <td>...</td>\n",
       "      <td>...</td>\n",
       "      <td>...</td>\n",
       "    </tr>\n",
       "    <tr>\n",
       "      <th>1584</th>\n",
       "      <td>1</td>\n",
       "      <td>1</td>\n",
       "      <td>61285.0</td>\n",
       "      <td>3</td>\n",
       "      <td>44</td>\n",
       "      <td>60</td>\n",
       "      <td>77283.59</td>\n",
       "      <td>1</td>\n",
       "    </tr>\n",
       "    <tr>\n",
       "      <th>1585</th>\n",
       "      <td>1</td>\n",
       "      <td>0</td>\n",
       "      <td>63140.0</td>\n",
       "      <td>1</td>\n",
       "      <td>44</td>\n",
       "      <td>24</td>\n",
       "      <td>68416.86</td>\n",
       "      <td>1</td>\n",
       "    </tr>\n",
       "    <tr>\n",
       "      <th>1586</th>\n",
       "      <td>1</td>\n",
       "      <td>1</td>\n",
       "      <td>44907.0</td>\n",
       "      <td>1</td>\n",
       "      <td>60</td>\n",
       "      <td>19</td>\n",
       "      <td>70186.19</td>\n",
       "      <td>1</td>\n",
       "    </tr>\n",
       "    <tr>\n",
       "      <th>1587</th>\n",
       "      <td>1</td>\n",
       "      <td>0</td>\n",
       "      <td>52054.0</td>\n",
       "      <td>2</td>\n",
       "      <td>67</td>\n",
       "      <td>29</td>\n",
       "      <td>73394.09</td>\n",
       "      <td>1</td>\n",
       "    </tr>\n",
       "    <tr>\n",
       "      <th>1588</th>\n",
       "      <td>2</td>\n",
       "      <td>1</td>\n",
       "      <td>44353.0</td>\n",
       "      <td>3</td>\n",
       "      <td>75</td>\n",
       "      <td>18</td>\n",
       "      <td>70056.31</td>\n",
       "      <td>0</td>\n",
       "    </tr>\n",
       "  </tbody>\n",
       "</table>\n",
       "<p>1589 rows × 8 columns</p>\n",
       "</div>"
      ],
      "text/plain": [
       "      College  City  Previous CTC  Previous job change  Graduation Marks  \\\n",
       "0           2     0       55523.0                    3                66   \n",
       "1           2     0       57081.0                    1                84   \n",
       "2           3     0       60347.0                    2                52   \n",
       "3           3     0       49010.0                    2                81   \n",
       "4           1     0       57879.0                    4                74   \n",
       "...       ...   ...           ...                  ...               ...   \n",
       "1584        1     1       61285.0                    3                44   \n",
       "1585        1     0       63140.0                    1                44   \n",
       "1586        1     1       44907.0                    1                60   \n",
       "1587        1     0       52054.0                    2                67   \n",
       "1588        2     1       44353.0                    3                75   \n",
       "\n",
       "      EXP (Month)       CTC  Executive  \n",
       "0              19  71406.58          0  \n",
       "1              18  68005.87          1  \n",
       "2              28  76764.02          1  \n",
       "3              33  82092.39          1  \n",
       "4              32  73878.10          1  \n",
       "...           ...       ...        ...  \n",
       "1584           60  77283.59          1  \n",
       "1585           24  68416.86          1  \n",
       "1586           19  70186.19          1  \n",
       "1587           29  73394.09          1  \n",
       "1588           18  70056.31          0  \n",
       "\n",
       "[1589 rows x 8 columns]"
      ]
     },
     "execution_count": 5,
     "metadata": {},
     "output_type": "execute_result"
    }
   ],
   "source": [
    "encoded_role = pd.get_dummies(df['Role'])               # Creating dummy variables for role and saving it separately \n",
    "                                                        # in encoded_role df\n",
    "del df['Role']                                          # Deleteing the orignal roles column from df.\n",
    "df = pd.concat([df, encoded_role['Executive']], axis=1) # Concatinating dummy variables for roles in original df.\n",
    "df"
   ]
  },
  {
   "cell_type": "markdown",
   "id": "a210e944",
   "metadata": {},
   "source": [
    "### Removing Duplicate Rows."
   ]
  },
  {
   "cell_type": "code",
   "execution_count": 6,
   "id": "0a7e91cc",
   "metadata": {},
   "outputs": [
    {
     "name": "stdout",
     "output_type": "stream",
     "text": [
      "Number of duplicate rows: 46\n"
     ]
    }
   ],
   "source": [
    "num_duplicates = df.duplicated().sum()\n",
    "print(\"Number of duplicate rows:\", num_duplicates)\n"
   ]
  },
  {
   "cell_type": "code",
   "execution_count": 7,
   "id": "a72acdcd",
   "metadata": {},
   "outputs": [
    {
     "data": {
      "text/plain": [
       "1543"
      ]
     },
     "execution_count": 7,
     "metadata": {},
     "output_type": "execute_result"
    }
   ],
   "source": [
    "df.drop_duplicates(inplace=True)\n",
    "len(df)"
   ]
  },
  {
   "cell_type": "markdown",
   "id": "76069f13",
   "metadata": {},
   "source": [
    "### Checking for Null"
   ]
  },
  {
   "cell_type": "code",
   "execution_count": 8,
   "id": "56ff671b",
   "metadata": {},
   "outputs": [
    {
     "name": "stdout",
     "output_type": "stream",
     "text": [
      "<class 'pandas.core.frame.DataFrame'>\n",
      "Int64Index: 1543 entries, 0 to 1588\n",
      "Data columns (total 8 columns):\n",
      " #   Column               Non-Null Count  Dtype  \n",
      "---  ------               --------------  -----  \n",
      " 0   College              1543 non-null   int64  \n",
      " 1   City                 1543 non-null   int64  \n",
      " 2   Previous CTC         1543 non-null   float64\n",
      " 3   Previous job change  1543 non-null   int64  \n",
      " 4   Graduation Marks     1543 non-null   int64  \n",
      " 5   EXP (Month)          1543 non-null   int64  \n",
      " 6   CTC                  1543 non-null   float64\n",
      " 7   Executive            1543 non-null   uint8  \n",
      "dtypes: float64(2), int64(5), uint8(1)\n",
      "memory usage: 97.9 KB\n"
     ]
    }
   ],
   "source": [
    "df.info()                    # NO null found in the dataset."
   ]
  },
  {
   "cell_type": "markdown",
   "id": "2f318f12",
   "metadata": {},
   "source": [
    "### Checking for skewness and outliers"
   ]
  },
  {
   "cell_type": "code",
   "execution_count": 9,
   "id": "5bc6d23e",
   "metadata": {},
   "outputs": [
    {
     "data": {
      "text/html": [
       "<div>\n",
       "<style scoped>\n",
       "    .dataframe tbody tr th:only-of-type {\n",
       "        vertical-align: middle;\n",
       "    }\n",
       "\n",
       "    .dataframe tbody tr th {\n",
       "        vertical-align: top;\n",
       "    }\n",
       "\n",
       "    .dataframe thead th {\n",
       "        text-align: right;\n",
       "    }\n",
       "</style>\n",
       "<table border=\"1\" class=\"dataframe\">\n",
       "  <thead>\n",
       "    <tr style=\"text-align: right;\">\n",
       "      <th></th>\n",
       "      <th>College</th>\n",
       "      <th>City</th>\n",
       "      <th>Previous CTC</th>\n",
       "      <th>Previous job change</th>\n",
       "      <th>Graduation Marks</th>\n",
       "      <th>EXP (Month)</th>\n",
       "      <th>CTC</th>\n",
       "      <th>Executive</th>\n",
       "    </tr>\n",
       "  </thead>\n",
       "  <tbody>\n",
       "    <tr>\n",
       "      <th>count</th>\n",
       "      <td>1543.000000</td>\n",
       "      <td>1543.000000</td>\n",
       "      <td>1543.000000</td>\n",
       "      <td>1543.000000</td>\n",
       "      <td>1543.000000</td>\n",
       "      <td>1543.000000</td>\n",
       "      <td>1543.000000</td>\n",
       "      <td>1543.000000</td>\n",
       "    </tr>\n",
       "    <tr>\n",
       "      <th>mean</th>\n",
       "      <td>1.977317</td>\n",
       "      <td>0.511342</td>\n",
       "      <td>55545.792612</td>\n",
       "      <td>2.530136</td>\n",
       "      <td>59.900843</td>\n",
       "      <td>39.174984</td>\n",
       "      <td>75393.887628</td>\n",
       "      <td>0.792612</td>\n",
       "    </tr>\n",
       "    <tr>\n",
       "      <th>std</th>\n",
       "      <td>0.835421</td>\n",
       "      <td>0.500033</td>\n",
       "      <td>6677.101810</td>\n",
       "      <td>1.123487</td>\n",
       "      <td>14.926535</td>\n",
       "      <td>14.056555</td>\n",
       "      <td>12585.690921</td>\n",
       "      <td>0.405567</td>\n",
       "    </tr>\n",
       "    <tr>\n",
       "      <th>min</th>\n",
       "      <td>1.000000</td>\n",
       "      <td>0.000000</td>\n",
       "      <td>36990.000000</td>\n",
       "      <td>1.000000</td>\n",
       "      <td>35.000000</td>\n",
       "      <td>18.000000</td>\n",
       "      <td>53020.320000</td>\n",
       "      <td>0.000000</td>\n",
       "    </tr>\n",
       "    <tr>\n",
       "      <th>25%</th>\n",
       "      <td>1.000000</td>\n",
       "      <td>0.000000</td>\n",
       "      <td>50537.000000</td>\n",
       "      <td>2.000000</td>\n",
       "      <td>47.000000</td>\n",
       "      <td>27.000000</td>\n",
       "      <td>66939.040000</td>\n",
       "      <td>1.000000</td>\n",
       "    </tr>\n",
       "    <tr>\n",
       "      <th>50%</th>\n",
       "      <td>2.000000</td>\n",
       "      <td>1.000000</td>\n",
       "      <td>55291.000000</td>\n",
       "      <td>3.000000</td>\n",
       "      <td>60.000000</td>\n",
       "      <td>39.000000</td>\n",
       "      <td>73028.670000</td>\n",
       "      <td>1.000000</td>\n",
       "    </tr>\n",
       "    <tr>\n",
       "      <th>75%</th>\n",
       "      <td>3.000000</td>\n",
       "      <td>1.000000</td>\n",
       "      <td>60124.500000</td>\n",
       "      <td>4.000000</td>\n",
       "      <td>73.000000</td>\n",
       "      <td>51.000000</td>\n",
       "      <td>80601.825000</td>\n",
       "      <td>1.000000</td>\n",
       "    </tr>\n",
       "    <tr>\n",
       "      <th>max</th>\n",
       "      <td>3.000000</td>\n",
       "      <td>1.000000</td>\n",
       "      <td>77911.000000</td>\n",
       "      <td>4.000000</td>\n",
       "      <td>85.000000</td>\n",
       "      <td>64.000000</td>\n",
       "      <td>123416.990000</td>\n",
       "      <td>1.000000</td>\n",
       "    </tr>\n",
       "  </tbody>\n",
       "</table>\n",
       "</div>"
      ],
      "text/plain": [
       "           College         City  Previous CTC  Previous job change  \\\n",
       "count  1543.000000  1543.000000   1543.000000          1543.000000   \n",
       "mean      1.977317     0.511342  55545.792612             2.530136   \n",
       "std       0.835421     0.500033   6677.101810             1.123487   \n",
       "min       1.000000     0.000000  36990.000000             1.000000   \n",
       "25%       1.000000     0.000000  50537.000000             2.000000   \n",
       "50%       2.000000     1.000000  55291.000000             3.000000   \n",
       "75%       3.000000     1.000000  60124.500000             4.000000   \n",
       "max       3.000000     1.000000  77911.000000             4.000000   \n",
       "\n",
       "       Graduation Marks  EXP (Month)            CTC    Executive  \n",
       "count       1543.000000  1543.000000    1543.000000  1543.000000  \n",
       "mean          59.900843    39.174984   75393.887628     0.792612  \n",
       "std           14.926535    14.056555   12585.690921     0.405567  \n",
       "min           35.000000    18.000000   53020.320000     0.000000  \n",
       "25%           47.000000    27.000000   66939.040000     1.000000  \n",
       "50%           60.000000    39.000000   73028.670000     1.000000  \n",
       "75%           73.000000    51.000000   80601.825000     1.000000  \n",
       "max           85.000000    64.000000  123416.990000     1.000000  "
      ]
     },
     "execution_count": 9,
     "metadata": {},
     "output_type": "execute_result"
    }
   ],
   "source": [
    "df.describe()                # As with this kind of data we can only consider Previous CTC , Graduation Marks and EXP(Month)\n",
    "                             # for our outlier analysis as other columns either have some kind of categorical values and not\n",
    "                             # to considerate about having an outlier."
   ]
  },
  {
   "cell_type": "code",
   "execution_count": 10,
   "id": "2f15b86e",
   "metadata": {},
   "outputs": [
    {
     "data": {
      "text/plain": [
       "<seaborn.axisgrid.JointGrid at 0x21cf8aa87f0>"
      ]
     },
     "execution_count": 10,
     "metadata": {},
     "output_type": "execute_result"
    },
    {
     "data": {
      "image/png": "[encoded data removed]",
      "text/plain": [
       "<Figure size 432x432 with 3 Axes>"
      ]
     },
     "metadata": {
      "needs_background": "light"
     },
     "output_type": "display_data"
    }
   ],
   "source": [
    "sns.jointplot(x='Previous CTC', y='CTC', data=df)  # The data seems fairly distributed and no such outlier can be seen."
   ]
  },
  {
   "cell_type": "code",
   "execution_count": 11,
   "id": "f5cda49e",
   "metadata": {},
   "outputs": [
    {
     "data": {
      "text/plain": [
       "<seaborn.axisgrid.JointGrid at 0x21c8017acd0>"
      ]
     },
     "execution_count": 11,
     "metadata": {},
     "output_type": "execute_result"
    },
    {
     "data": {
      "image/png": "[encoded data removed]",
      "text/plain": [
       "<Figure size 432x432 with 3 Axes>"
      ]
     },
     "metadata": {
      "needs_background": "light"
     },
     "output_type": "display_data"
    }
   ],
   "source": [
    "sns.jointplot(x='Graduation Marks', y='CTC', data=df)  # The data seems fairly distributed and no such outlier can be seen."
   ]
  },
  {
   "cell_type": "markdown",
   "id": "8396729a",
   "metadata": {},
   "source": [
    "### Both the Graduation Marks and Previous CTC dont have any such considerable Outliers, So the Data seems fit for the Next Step That is Model Selection"
   ]
  },
  {
   "cell_type": "code",
   "execution_count": 12,
   "id": "1aee093e",
   "metadata": {
    "scrolled": true
   },
   "outputs": [
    {
     "data": {
      "text/html": [
       "<div>\n",
       "<style scoped>\n",
       "    .dataframe tbody tr th:only-of-type {\n",
       "        vertical-align: middle;\n",
       "    }\n",
       "\n",
       "    .dataframe tbody tr th {\n",
       "        vertical-align: top;\n",
       "    }\n",
       "\n",
       "    .dataframe thead th {\n",
       "        text-align: right;\n",
       "    }\n",
       "</style>\n",
       "<table border=\"1\" class=\"dataframe\">\n",
       "  <thead>\n",
       "    <tr style=\"text-align: right;\">\n",
       "      <th></th>\n",
       "      <th>College</th>\n",
       "      <th>City</th>\n",
       "      <th>Previous CTC</th>\n",
       "      <th>Previous job change</th>\n",
       "      <th>Graduation Marks</th>\n",
       "      <th>EXP (Month)</th>\n",
       "      <th>CTC</th>\n",
       "      <th>Executive</th>\n",
       "    </tr>\n",
       "  </thead>\n",
       "  <tbody>\n",
       "    <tr>\n",
       "      <th>College</th>\n",
       "      <td>1.000000</td>\n",
       "      <td>-0.014132</td>\n",
       "      <td>0.041470</td>\n",
       "      <td>-0.059729</td>\n",
       "      <td>0.004344</td>\n",
       "      <td>0.009064</td>\n",
       "      <td>-0.026282</td>\n",
       "      <td>0.012903</td>\n",
       "    </tr>\n",
       "    <tr>\n",
       "      <th>City</th>\n",
       "      <td>-0.014132</td>\n",
       "      <td>1.000000</td>\n",
       "      <td>0.000010</td>\n",
       "      <td>0.058553</td>\n",
       "      <td>-0.014316</td>\n",
       "      <td>-0.020581</td>\n",
       "      <td>-0.013014</td>\n",
       "      <td>0.043584</td>\n",
       "    </tr>\n",
       "    <tr>\n",
       "      <th>Previous CTC</th>\n",
       "      <td>0.041470</td>\n",
       "      <td>0.000010</td>\n",
       "      <td>1.000000</td>\n",
       "      <td>0.010004</td>\n",
       "      <td>-0.027740</td>\n",
       "      <td>0.121437</td>\n",
       "      <td>0.262554</td>\n",
       "      <td>-0.016814</td>\n",
       "    </tr>\n",
       "    <tr>\n",
       "      <th>Previous job change</th>\n",
       "      <td>-0.059729</td>\n",
       "      <td>0.058553</td>\n",
       "      <td>0.010004</td>\n",
       "      <td>1.000000</td>\n",
       "      <td>0.020345</td>\n",
       "      <td>0.022416</td>\n",
       "      <td>0.005110</td>\n",
       "      <td>0.025111</td>\n",
       "    </tr>\n",
       "    <tr>\n",
       "      <th>Graduation Marks</th>\n",
       "      <td>0.004344</td>\n",
       "      <td>-0.014316</td>\n",
       "      <td>-0.027740</td>\n",
       "      <td>0.020345</td>\n",
       "      <td>1.000000</td>\n",
       "      <td>-0.054128</td>\n",
       "      <td>-0.004035</td>\n",
       "      <td>-0.021289</td>\n",
       "    </tr>\n",
       "    <tr>\n",
       "      <th>EXP (Month)</th>\n",
       "      <td>0.009064</td>\n",
       "      <td>-0.020581</td>\n",
       "      <td>0.121437</td>\n",
       "      <td>0.022416</td>\n",
       "      <td>-0.054128</td>\n",
       "      <td>1.000000</td>\n",
       "      <td>0.295916</td>\n",
       "      <td>0.026618</td>\n",
       "    </tr>\n",
       "    <tr>\n",
       "      <th>CTC</th>\n",
       "      <td>-0.026282</td>\n",
       "      <td>-0.013014</td>\n",
       "      <td>0.262554</td>\n",
       "      <td>0.005110</td>\n",
       "      <td>-0.004035</td>\n",
       "      <td>0.295916</td>\n",
       "      <td>1.000000</td>\n",
       "      <td>-0.623223</td>\n",
       "    </tr>\n",
       "    <tr>\n",
       "      <th>Executive</th>\n",
       "      <td>0.012903</td>\n",
       "      <td>0.043584</td>\n",
       "      <td>-0.016814</td>\n",
       "      <td>0.025111</td>\n",
       "      <td>-0.021289</td>\n",
       "      <td>0.026618</td>\n",
       "      <td>-0.623223</td>\n",
       "      <td>1.000000</td>\n",
       "    </tr>\n",
       "  </tbody>\n",
       "</table>\n",
       "</div>"
      ],
      "text/plain": [
       "                      College      City  Previous CTC  Previous job change  \\\n",
       "College              1.000000 -0.014132      0.041470            -0.059729   \n",
       "City                -0.014132  1.000000      0.000010             0.058553   \n",
       "Previous CTC         0.041470  0.000010      1.000000             0.010004   \n",
       "Previous job change -0.059729  0.058553      0.010004             1.000000   \n",
       "Graduation Marks     0.004344 -0.014316     -0.027740             0.020345   \n",
       "EXP (Month)          0.009064 -0.020581      0.121437             0.022416   \n",
       "CTC                 -0.026282 -0.013014      0.262554             0.005110   \n",
       "Executive            0.012903  0.043584     -0.016814             0.025111   \n",
       "\n",
       "                     Graduation Marks  EXP (Month)       CTC  Executive  \n",
       "College                      0.004344     0.009064 -0.026282   0.012903  \n",
       "City                        -0.014316    -0.020581 -0.013014   0.043584  \n",
       "Previous CTC                -0.027740     0.121437  0.262554  -0.016814  \n",
       "Previous job change          0.020345     0.022416  0.005110   0.025111  \n",
       "Graduation Marks             1.000000    -0.054128 -0.004035  -0.021289  \n",
       "EXP (Month)                 -0.054128     1.000000  0.295916   0.026618  \n",
       "CTC                         -0.004035     0.295916  1.000000  -0.623223  \n",
       "Executive                   -0.021289     0.026618 -0.623223   1.000000  "
      ]
     },
     "execution_count": 12,
     "metadata": {},
     "output_type": "execute_result"
    }
   ],
   "source": [
    "df.corr()   # The Correlation table suggest that all the columns do relate with the dependent variable that is CTC (negatively,\n",
    "            # positively) on a less scale.\n",
    "            # And there is no such multi collinearity of the varibles as their correlation values are fairly small."
   ]
  },
  {
   "cell_type": "markdown",
   "id": "e5bdfa31",
   "metadata": {},
   "source": [
    "### Splitting Data into Independent and Dependent  Data"
   ]
  },
  {
   "cell_type": "code",
   "execution_count": 13,
   "id": "2ba6bc26",
   "metadata": {},
   "outputs": [],
   "source": [
    "X = df.loc[:, df.columns != 'CTC']      # Independent Variables.\n",
    "Y = df['CTC']                           # Dependent Variable."
   ]
  },
  {
   "cell_type": "markdown",
   "id": "9f0aada8",
   "metadata": {},
   "source": [
    "### Splitting Data into Training and Testing"
   ]
  },
  {
   "cell_type": "code",
   "execution_count": 14,
   "id": "81bdc605",
   "metadata": {},
   "outputs": [
    {
     "data": {
      "text/plain": [
       "((1234, 7), (309, 7), (1234,), (309,))"
      ]
     },
     "execution_count": 14,
     "metadata": {},
     "output_type": "execute_result"
    }
   ],
   "source": [
    "x_train, x_test, y_train,y_test = train_test_split(X,Y,test_size = 0.2, random_state = 0) # Splitting training and testing into\n",
    "x_train.shape, x_test.shape, y_train.shape, y_test.shape                                  # 80:20 ratio."
   ]
  },
  {
   "cell_type": "code",
   "execution_count": 15,
   "id": "13a22b3f",
   "metadata": {},
   "outputs": [],
   "source": [
    "scaler = preprocessing.StandardScaler().fit(x_train)  # Transforming the data into a same range so as to get better calculations\n",
    "x_train = scaler.transform(x_train)                   # and effective Results.\n",
    "x_test = scaler.transform(x_test)"
   ]
  },
  {
   "cell_type": "markdown",
   "id": "2bd34aa7",
   "metadata": {},
   "source": [
    "# Model Selection."
   ]
  },
  {
   "cell_type": "markdown",
   "id": "10d3ddbc",
   "metadata": {},
   "source": [
    "# Q3. What were the available ML model options you had to perform this task?\n",
    "\n",
    "Now as we are done with the preprocessing and splititng of data into training and testing set, It is time to choose a model which we think will help us predict future salary of employees accurately and Precisely.\n",
    "1. First thing to notice is that it is a continous values Prediction task that is it's a Regression Problem, so we have to try and use only Regression models like LinearRegression, OLS, Decision Tree etc and not the Classification Models like LogisticRegression which can be quite confusing sometimes.\n",
    "2. Here is a list of Models which I thought I can experiment with to find which model performs at what level for my proble,\n",
    "* Ordinary Least Square Model.\n",
    "* Linear Regression with multiple Variables.\n",
    "* KNN for Regression.\n",
    "* Decision Tree Regression."
   ]
  },
  {
   "cell_type": "markdown",
   "id": "d0869046",
   "metadata": {},
   "source": [
    "# OLS Model."
   ]
  },
  {
   "cell_type": "code",
   "execution_count": 16,
   "id": "23275e49",
   "metadata": {},
   "outputs": [
    {
     "name": "stdout",
     "output_type": "stream",
     "text": [
      "Train MSE :  72336582.59216733  | Train R2 :  0.5457115591494669\n",
      "Test MSE  :  79995757.09450118  | Test R2 :  0.4789893465791988\n"
     ]
    },
    {
     "data": {
      "text/html": [
       "<table class=\"simpletable\">\n",
       "<caption>OLS Regression Results</caption>\n",
       "<tr>\n",
       "  <th>Dep. Variable:</th>           <td>CTC</td>       <th>  R-squared:         </th> <td>   0.546</td> \n",
       "</tr>\n",
       "<tr>\n",
       "  <th>Model:</th>                   <td>OLS</td>       <th>  Adj. R-squared:    </th> <td>   0.543</td> \n",
       "</tr>\n",
       "<tr>\n",
       "  <th>Method:</th>             <td>Least Squares</td>  <th>  F-statistic:       </th> <td>   210.4</td> \n",
       "</tr>\n",
       "<tr>\n",
       "  <th>Date:</th>             <td>Fri, 30 Jun 2023</td> <th>  Prob (F-statistic):</th> <td>5.47e-205</td>\n",
       "</tr>\n",
       "<tr>\n",
       "  <th>Time:</th>                 <td>23:04:07</td>     <th>  Log-Likelihood:    </th> <td> -12917.</td> \n",
       "</tr>\n",
       "<tr>\n",
       "  <th>No. Observations:</th>      <td>  1234</td>      <th>  AIC:               </th> <td>2.585e+04</td>\n",
       "</tr>\n",
       "<tr>\n",
       "  <th>Df Residuals:</th>          <td>  1226</td>      <th>  BIC:               </th> <td>2.589e+04</td>\n",
       "</tr>\n",
       "<tr>\n",
       "  <th>Df Model:</th>              <td>     7</td>      <th>                     </th>     <td> </td>    \n",
       "</tr>\n",
       "<tr>\n",
       "  <th>Covariance Type:</th>      <td>nonrobust</td>    <th>                     </th>     <td> </td>    \n",
       "</tr>\n",
       "</table>\n",
       "<table class=\"simpletable\">\n",
       "<tr>\n",
       "    <td></td>       <th>coef</th>     <th>std err</th>      <th>t</th>      <th>P>|t|</th>  <th>[0.025</th>    <th>0.975]</th>  \n",
       "</tr>\n",
       "<tr>\n",
       "  <th>const</th> <td> 7.517e+04</td> <td>  242.903</td> <td>  309.451</td> <td> 0.000</td> <td> 7.47e+04</td> <td> 7.56e+04</td>\n",
       "</tr>\n",
       "<tr>\n",
       "  <th>x1</th>    <td> -284.5855</td> <td>  244.229</td> <td>   -1.165</td> <td> 0.244</td> <td> -763.739</td> <td>  194.568</td>\n",
       "</tr>\n",
       "<tr>\n",
       "  <th>x2</th>    <td>  355.1574</td> <td>  243.528</td> <td>    1.458</td> <td> 0.145</td> <td> -122.621</td> <td>  832.936</td>\n",
       "</tr>\n",
       "<tr>\n",
       "  <th>x3</th>    <td> 2756.7999</td> <td>  245.859</td> <td>   11.213</td> <td> 0.000</td> <td> 2274.450</td> <td> 3239.150</td>\n",
       "</tr>\n",
       "<tr>\n",
       "  <th>x4</th>    <td>   87.2075</td> <td>  243.904</td> <td>    0.358</td> <td> 0.721</td> <td> -391.308</td> <td>  565.723</td>\n",
       "</tr>\n",
       "<tr>\n",
       "  <th>x5</th>    <td>  134.3309</td> <td>  243.413</td> <td>    0.552</td> <td> 0.581</td> <td> -343.221</td> <td>  611.883</td>\n",
       "</tr>\n",
       "<tr>\n",
       "  <th>x6</th>    <td> 3438.5680</td> <td>  245.663</td> <td>   13.997</td> <td> 0.000</td> <td> 2956.602</td> <td> 3920.534</td>\n",
       "</tr>\n",
       "<tr>\n",
       "  <th>x7</th>    <td>-8061.1489</td> <td>  243.320</td> <td>  -33.130</td> <td> 0.000</td> <td>-8538.518</td> <td>-7583.780</td>\n",
       "</tr>\n",
       "</table>\n",
       "<table class=\"simpletable\">\n",
       "<tr>\n",
       "  <th>Omnibus:</th>       <td>36.516</td> <th>  Durbin-Watson:     </th> <td>   2.057</td>\n",
       "</tr>\n",
       "<tr>\n",
       "  <th>Prob(Omnibus):</th> <td> 0.000</td> <th>  Jarque-Bera (JB):  </th> <td>  40.110</td>\n",
       "</tr>\n",
       "<tr>\n",
       "  <th>Skew:</th>          <td> 0.395</td> <th>  Prob(JB):          </th> <td>1.95e-09</td>\n",
       "</tr>\n",
       "<tr>\n",
       "  <th>Kurtosis:</th>      <td> 3.397</td> <th>  Cond. No.          </th> <td>    1.18</td>\n",
       "</tr>\n",
       "</table><br/><br/>Notes:<br/>[1] Standard Errors assume that the covariance matrix of the errors is correctly specified."
      ],
      "text/plain": [
       "<class 'statsmodels.iolib.summary.Summary'>\n",
       "\"\"\"\n",
       "                            OLS Regression Results                            \n",
       "==============================================================================\n",
       "Dep. Variable:                    CTC   R-squared:                       0.546\n",
       "Model:                            OLS   Adj. R-squared:                  0.543\n",
       "Method:                 Least Squares   F-statistic:                     210.4\n",
       "Date:                Fri, 30 Jun 2023   Prob (F-statistic):          5.47e-205\n",
       "Time:                        23:04:07   Log-Likelihood:                -12917.\n",
       "No. Observations:                1234   AIC:                         2.585e+04\n",
       "Df Residuals:                    1226   BIC:                         2.589e+04\n",
       "Df Model:                           7                                         \n",
       "Covariance Type:            nonrobust                                         \n",
       "==============================================================================\n",
       "                 coef    std err          t      P>|t|      [0.025      0.975]\n",
       "------------------------------------------------------------------------------\n",
       "const       7.517e+04    242.903    309.451      0.000    7.47e+04    7.56e+04\n",
       "x1          -284.5855    244.229     -1.165      0.244    -763.739     194.568\n",
       "x2           355.1574    243.528      1.458      0.145    -122.621     832.936\n",
       "x3          2756.7999    245.859     11.213      0.000    2274.450    3239.150\n",
       "x4            87.2075    243.904      0.358      0.721    -391.308     565.723\n",
       "x5           134.3309    243.413      0.552      0.581    -343.221     611.883\n",
       "x6          3438.5680    245.663     13.997      0.000    2956.602    3920.534\n",
       "x7         -8061.1489    243.320    -33.130      0.000   -8538.518   -7583.780\n",
       "==============================================================================\n",
       "Omnibus:                       36.516   Durbin-Watson:                   2.057\n",
       "Prob(Omnibus):                  0.000   Jarque-Bera (JB):               40.110\n",
       "Skew:                           0.395   Prob(JB):                     1.95e-09\n",
       "Kurtosis:                       3.397   Cond. No.                         1.18\n",
       "==============================================================================\n",
       "\n",
       "Notes:\n",
       "[1] Standard Errors assume that the covariance matrix of the errors is correctly specified.\n",
       "\"\"\""
      ]
     },
     "execution_count": 16,
     "metadata": {},
     "output_type": "execute_result"
    }
   ],
   "source": [
    "x_train_ols  = sn.add_constant(x_train)                # Adding bias (constant column) in the independent data.\n",
    "x_test_ols   = sn.add_constant(x_test)\n",
    "OLS_model = sn.OLS(y_train, x_train_ols).fit()         # Training Model.\n",
    "\n",
    "y_train_pred = OLS_model.predict(x_train_ols)          # Predicting on Training Data\n",
    "y_test_pred = OLS_model.predict(x_test_ols)            # Predicting on Test Data\n",
    "\n",
    "train_mse = mean_squared_error(y_train, y_train_pred)  # Calculating MSE for Training Data\n",
    "test_mse  = mean_squared_error(y_test, y_test_pred)    # Calculating MSE for Testing Data\n",
    "\n",
    "train_r2= r2_score(y_train, y_train_pred)              # Calculating R2_score for Training Data\n",
    "test_r2  = r2_score(y_test, y_test_pred)               # Calculating R2_score for Testing Data\n",
    "\n",
    "print(\"Train MSE : \", train_mse, \" | Train R2 : \", train_r2)\n",
    "print(\"Test MSE  : \" , test_mse,  \" | Test R2 : \", test_r2)\n",
    "\n",
    "OLS_model.summary()"
   ]
  },
  {
   "cell_type": "markdown",
   "id": "2dcb9fcc",
   "metadata": {},
   "source": [
    "* From the above summary we can see that the P-Value for Previous job change and Graduation Marks are quite high ( > 0.5)     ,which can be think of that these parameters are not of much value for our prediction of Independent variable. Although on the other hand all the other columns show high relationship with the to be predicted value.\n",
    "\n",
    "### Feature Selection\n",
    "As we can see Previous job change and Graduation marks have really high P value we can also discard them from our data as they wont be much contributing to our prediction model, this is called feature selection but I will not do this as we merely have 7 variables to work with and among 5 others College and City are also weak contributers.So we will procede with all 7 variables throughout the models."
   ]
  },
  {
   "cell_type": "markdown",
   "id": "14fa65f9",
   "metadata": {},
   "source": [
    "# Linear Regression Model."
   ]
  },
  {
   "cell_type": "code",
   "execution_count": 17,
   "id": "d17c8cc5",
   "metadata": {
    "scrolled": true
   },
   "outputs": [
    {
     "name": "stdout",
     "output_type": "stream",
     "text": [
      "Train MSE :  72336582.59216732  | Train R2 :  0.545711559149467\n",
      "Test MSE  :  79995757.0945012  | Test R2 :  0.47898934657919867\n"
     ]
    }
   ],
   "source": [
    "LR_model = LinearRegression()\n",
    "LR_model.fit(x_train, y_train)                            # Training Model\n",
    "\n",
    "y_train_pred = LR_model.predict(x_train)                  # Predicting on Training Data\n",
    "y_test_pred = LR_model.predict(x_test)                    # Predicting on Test Data\n",
    "\n",
    "train_mse = mean_squared_error(y_train, y_train_pred)     # Calculating MSE for Training Data\n",
    "test_mse  = mean_squared_error(y_test, y_test_pred)       # Calculating MSE for Testing Data\n",
    "\n",
    "train_r2= r2_score(y_train, y_train_pred)                 # Calculating R2_score for Training Data\n",
    "test_r2  = r2_score(y_test, y_test_pred)                  # Calculating R2_score for Testing Data\n",
    "\n",
    "print(\"Train MSE : \", train_mse, \" | Train R2 : \", train_r2)\n",
    "print(\"Test MSE  : \" , test_mse,  \" | Test R2 : \", test_r2)"
   ]
  },
  {
   "cell_type": "markdown",
   "id": "8cae78eb",
   "metadata": {},
   "source": [
    "->  We wont be able to draw a regression line to with the data as we have multi dimensional (multi variable) data and I dont know to plot it on a 2d graph."
   ]
  },
  {
   "cell_type": "markdown",
   "id": "4b85e770",
   "metadata": {},
   "source": [
    "# KNN Model."
   ]
  },
  {
   "cell_type": "code",
   "execution_count": 18,
   "id": "8f248160",
   "metadata": {
    "scrolled": true
   },
   "outputs": [
    {
     "name": "stdout",
     "output_type": "stream",
     "text": [
      "Best Parameters :  {'n_neighbors': 7, 'p': 3, 'weights': 'uniform'}\n",
      "\n",
      "Train MSE :  0.0  | Train R2 :  1.0\n",
      "Test MSE  :  75733213.16662274  | Test R2 :  0.5067512039296491\n"
     ]
    }
   ],
   "source": [
    "KNN_model = KNeighborsRegressor()\n",
    "\n",
    "param_grid = {\"n_neighbors\" : [3,4,5,6,7,8],                # Creating a parameter Grid for hyper tuning the parameters.\n",
    "              \"weights\" : ['uniform','distance'],\n",
    "              \"p\" : [1,2,3]\n",
    "             }\n",
    "grid_search = GridSearchCV(KNN_model, param_grid, cv=5, scoring='neg_mean_absolute_error',n_jobs=-1)\n",
    "grid_search.fit(x_train, y_train)\n",
    "print(\"Best Parameters : \", grid_search.best_params_)      #  Getting the best parameters on the basis of\n",
    "                                                           # 'neg_mean_absolute_error'\n",
    "\n",
    "\n",
    "optimised_KNN_model = KNeighborsRegressor(n_neighbors=8, p =1, weights='distance',n_jobs=-1)\n",
    "optimised_KNN_model.fit(x_train, y_train)                  # Training the new optimised model for prediction.\n",
    "\n",
    "y_train_pred = optimised_KNN_model.predict(x_train)        # Predicting on Training Data\n",
    "y_test_pred = optimised_KNN_model.predict(x_test)          # Predicting on Test Data\n",
    "\n",
    "train_mse = mean_squared_error(y_train, y_train_pred)      # Calculating MSE for Training Data\n",
    "test_mse  = mean_squared_error(y_test, y_test_pred)        # Calculating MSE for Testing Data\n",
    "\n",
    "train_r2= r2_score(y_train, y_train_pred)                  # Calculating R2_score for Training Data\n",
    "test_r2  = r2_score(y_test, y_test_pred)                   # Calculating R2_score for Testing Data\n",
    "\n",
    "print(\"\\nTrain MSE : \", train_mse, \" | Train R2 : \", train_r2)\n",
    "print(\"Test MSE  : \" , test_mse,  \" | Test R2 : \", test_r2)"
   ]
  },
  {
   "cell_type": "markdown",
   "id": "e5cb0fe9",
   "metadata": {},
   "source": [
    "* In KNN we can observe that the model performs perfectly on training data but performs average on testing data this shows a case of overfitting, thats is model is unable to perform on good on testing data inspite performing extraordinary on training data."
   ]
  },
  {
   "cell_type": "markdown",
   "id": "74ba5207",
   "metadata": {},
   "source": [
    "# Decision Tree Model."
   ]
  },
  {
   "cell_type": "code",
   "execution_count": 19,
   "id": "e432776d",
   "metadata": {},
   "outputs": [
    {
     "name": "stdout",
     "output_type": "stream",
     "text": [
      "Best Parameters :  {'max_depth': 4, 'min_samples_leaf': 3, 'min_samples_split': 4}\n",
      "\n",
      "Train MSE :  56617605.236379914  | Train R2 :  0.6444299317740915\n",
      "Test MSE  :  67076223.2466465  | Test R2 :  0.5631339939510732\n"
     ]
    },
    {
     "name": "stderr",
     "output_type": "stream",
     "text": [
      "D:\\Anaconda\\lib\\site-packages\\sklearn\\model_selection\\_search.py:918: UserWarning: One or more of the test scores are non-finite: [           nan -7648.30881988 -7648.30881988 -7648.30881988\n",
      " -7648.30881988            nan -7648.30881988 -7648.30881988\n",
      " -7648.30881988 -7648.30881988            nan -7648.30881988\n",
      " -7648.30881988 -7648.30881988 -7648.30881988            nan\n",
      " -7648.30881988 -7648.30881988 -7648.30881988 -7648.30881988\n",
      "            nan -7648.30881988 -7648.30881988 -7648.30881988\n",
      " -7648.30881988            nan -6601.38659918 -6601.38659918\n",
      " -6601.38659918 -6601.38659918            nan -6601.38659918\n",
      " -6601.38659918 -6601.38659918 -6601.38659918            nan\n",
      " -6601.38659918 -6601.38659918 -6601.38659918 -6601.38659918\n",
      "            nan -6601.38659918 -6601.38659918 -6601.38659918\n",
      " -6601.38659918            nan -6601.38659918 -6601.38659918\n",
      " -6601.38659918 -6601.38659918            nan -6366.71411774\n",
      " -6366.71411774 -6366.71411774 -6366.71411774            nan\n",
      " -6366.71411774 -6366.71411774 -6366.71411774 -6366.71411774\n",
      "            nan -6366.71411774 -6366.71411774 -6366.71411774\n",
      " -6366.71411774            nan -6366.71411774 -6366.71411774\n",
      " -6366.71411774 -6366.71411774            nan -6366.71411774\n",
      " -6366.71411774 -6366.71411774 -6366.71411774            nan\n",
      " -6352.94087189 -6352.94087189 -6352.94087189 -6352.94087189\n",
      "            nan -6352.94087189 -6352.94087189 -6352.94087189\n",
      " -6352.94087189            nan -6334.79909745 -6334.79909745\n",
      " -6334.79909745 -6334.79909745            nan -6336.7211781\n",
      " -6336.7211781  -6336.7211781  -6336.7211781             nan\n",
      " -6349.04184659 -6349.04184659 -6349.04184659 -6349.04184659\n",
      "            nan -6528.53915752 -6528.86935185 -6524.05873242\n",
      " -6526.46404214            nan -6519.2166193  -6519.2166193\n",
      " -6519.2166193  -6516.81130958            nan -6458.44689996\n",
      " -6458.44689996 -6458.44689996 -6458.44689996            nan\n",
      " -6447.872692   -6447.872692   -6447.872692   -6447.872692\n",
      "            nan -6488.9379313  -6488.9379313  -6488.9379313\n",
      " -6488.9379313 ]\n",
      "  warnings.warn(\n"
     ]
    }
   ],
   "source": [
    "DT_model = DecisionTreeRegressor(criterion='mse')\n",
    "\n",
    "param_grid = {\"max_depth\" : [1,2,3,4,5],                       # Creating a parameter Grid for hyper tuning the parameters.\n",
    "              \"min_samples_split\" : [1,2,3,4,5],\n",
    "              \"min_samples_leaf\" : [1,2,3,4,5]\n",
    "             }\n",
    "grid_search = GridSearchCV(DT_model, param_grid, cv=5, scoring='neg_mean_absolute_error',n_jobs=-1)\n",
    "grid_search.fit(x_train, y_train)\n",
    "print(\"Best Parameters : \", grid_search.best_params_)         #  Getting the best parameters on the basis of\n",
    "                                                              # 'neg_mean_absolute_error'\n",
    "optimised_DT_model = DecisionTreeRegressor(criterion='mse',max_depth = 4, min_samples_leaf= 1, min_samples_split= 2)\n",
    "optimised_DT_model.fit(x_train,y_train)                       # Training the new optimised model for prediction\n",
    " \n",
    "y_train_pred = optimised_DT_model.predict(x_train)            # Predicting on Training Data\n",
    "y_test_pred = optimised_DT_model.predict(x_test)              # Predicting on Test Data\n",
    "\n",
    "train_mse = mean_squared_error(y_train, y_train_pred)         # Calculating MSE for Training Data\n",
    "test_mse  = mean_squared_error(y_test, y_test_pred)           # Calculating MSE for Testing Data\n",
    "\n",
    "train_r2= r2_score(y_train, y_train_pred)                     # Calculating R2_score for Training Data\n",
    "test_r2  = r2_score(y_test, y_test_pred)                      # Calculating R2_score for Testing Data\n",
    "\n",
    "print(\"\\nTrain MSE : \", train_mse, \" | Train R2 : \", train_r2)\n",
    "print(\"Test MSE  : \" , test_mse,  \" | Test R2 : \", test_r2)"
   ]
  },
  {
   "cell_type": "markdown",
   "id": "c375c91a",
   "metadata": {},
   "source": [
    "## Visualizing Decision Tree"
   ]
  },
  {
   "cell_type": "code",
   "execution_count": 23,
   "id": "39f4aa57",
   "metadata": {},
   "outputs": [],
   "source": [
    "# from sklearn import tree\n",
    "# dot_data = tree.export_graphviz(optimised_DT_model)\n",
    "\n",
    "# graph = pydotplus.graph_from_dot_data(dot_data)\n",
    "# Image(graph.create_png())"
   ]
  },
  {
   "cell_type": "markdown",
   "id": "ba1345a4",
   "metadata": {},
   "source": [
    "### For some reason the export_graphviz was not working in my jupyter it was throwing an error of  \"graphviz executables files not found\" , I tried it multiple times but couldn't do it that's why i commented the code and I think with this we can visualize the desired decision tree."
   ]
  },
  {
   "cell_type": "markdown",
   "id": "27410a03",
   "metadata": {},
   "source": [
    "# Q4. Which model’s performance is best and what could be the possible reason for that ?"
   ]
  },
  {
   "cell_type": "markdown",
   "id": "1a1a7297",
   "metadata": {},
   "source": [
    "1. As we can observe from the summary table OLS and LR model performs similar to each other although the Test MSE for OLS is quite low as compared to LR that is why we have marked it 2nd best model and LR as the 3rd best model.\n",
    "2. On the other hand DT model performs fairly good as on both training and well as on testing data and have a relatively high R2 score as compared to other models on testing data that it why it is marked as 1st preference."
   ]
  },
  {
   "cell_type": "markdown",
   "id": "8151627f",
   "metadata": {},
   "source": [
    "# Regression Model Summary Table.\n",
    "\n",
    "  ## <font color='green'>Regression Models</font>\n",
    "   \n",
    "                                         Train MSE                Train R2                 Test MSE              Test R2\n",
    "    \n",
    "  * Ordinary Least Square (OLS)  :--------------------72336582.59------------------------0.5457-------------------------------- 9995757.09----------------------0.4789   **\n",
    "  * Linear Regression (LR)       :----------------------------72336582.59------------------------0.5457-------------------------------79995757.09----------------------0.4789 *\n",
    "  * KNN Regressor     (KNN)      :-----------------------------------------0.0-------------------------1.0------------------------------------75733213.16----------------------0.5067\n",
    "  * Decision Tree Regressor (DT) :--------------------56617605.23-----------------------0.6444-------------------------------67076223.24----------------------0.5631  ***"
   ]
  },
  {
   "cell_type": "markdown",
   "id": "ad64255a",
   "metadata": {},
   "source": [
    "After Applying the 4 different models to our data we can see that the Decision Tree Model has performed the best with least Mean squared error (MSE) and highest R2_score among other models on mainly testing data.\n",
    "###  The Possible reasons for such high r2_score and better performance can be attributed to : \n",
    "\n",
    "* Decision trees are capable of capturing non-linear relationships between predictors and the response variable. They can handle complex interactions and non-linear patterns in the data, whereas OLS and LR assume a linear relationship between predictors and the response.\n",
    "* Decision trees naturally capture interactions between predictors. By splitting the data based on different predictor values at each node, decision trees can identify interactions between variables that may be missed by OLS and LR unless explicitly included as additional terms.\n",
    "* Decision trees are generally robust to outliers because they use binary splits to partition the data. Outliers have a limited impact on the overall structure of the tree. In contrast, OLS and LR can be influenced by outliers due to the use of least squares estimation, which aims to minimize the sum of squared residuals.\n",
    "* Decision trees provide a transparent and interpretable model structure. The tree structure allows for clear visualization and understanding of how the predictor variables are used to make predictions. In contrast, OLS and LR may be more challenging to interpret due to the presence of coefficients and assumptions"
   ]
  },
  {
   "cell_type": "markdown",
   "id": "55672cca",
   "metadata": {},
   "source": [
    "# Q5. What steps can you take to improve this selected model’s performance even further?\n",
    "\n",
    "1. One of the most Important step that is Hyper Parameter Tuning is already done for the Decision Tree using the GridSearchCV library which gave us the best parameters for our DecisionTree Regressor Model, like {'max_depth': 4, 'min_samples_leaf': 1, 'min_samples_split': 5}.\n",
    "2. Another thing which we can do is to apply ensemnle models to our existing Decision Tree model so we can calculate even more generalised and accurate values but decreasing the Variance of overall Decision Tree Regressor Model.\n",
    "3. Here we tried 4 differnt Ensemble models for our Decision Tree,\n",
    "* Bagging\n",
    "* Random Forest\n",
    "* Gradient Boost\n",
    "* Ada Boost\n"
   ]
  },
  {
   "cell_type": "markdown",
   "id": "3fed1116",
   "metadata": {},
   "source": [
    "# Bagging Model.\n"
   ]
  },
  {
   "cell_type": "code",
   "execution_count": 24,
   "id": "f9b056a9",
   "metadata": {},
   "outputs": [
    {
     "name": "stdout",
     "output_type": "stream",
     "text": [
      "Best Parameters :  {'max_features': 0.9, 'max_samples': 0.9, 'n_estimators': 20}\n",
      "\n",
      "Train MSE :  54486765.99392734  | Train R2 :  0.6578120353027386\n",
      "Test MSE  :  63840498.18423379  | Test R2 :  0.5842082020127104\n"
     ]
    }
   ],
   "source": [
    "Bagg_Regr_model = BaggingRegressor(base_estimator =optimised_DT_model,bootstrap=True,random_state=0,n_jobs=-1)\n",
    "\n",
    "param_grid = {\"n_estimators\" : [10,20,50,100],\n",
    "              \"max_samples\" : [0.7,0.8,0.9,1],\n",
    "              \"max_features\" : [0.8,0.9,1]}\n",
    "\n",
    "grid_search = GridSearchCV(Bagg_Regr_model, param_grid, cv=5, scoring='neg_mean_absolute_error')\n",
    "grid_search.fit(x_train, y_train)\n",
    "print(\"Best Parameters : \", grid_search.best_params_)\n",
    "\n",
    "optimised_Bagg_Regr_model = BaggingRegressor(base_estimator =optimised_DT_model, bootstrap=True, random_state=0,\n",
    "                                             max_features =0.9, max_samples =0.7, n_estimators = 15)\n",
    "optimised_Bagg_Regr_model.fit(x_train,y_train)\n",
    "\n",
    "y_train_pred = optimised_Bagg_Regr_model.predict(x_train)\n",
    "y_test_pred = optimised_Bagg_Regr_model.predict(x_test)\n",
    "\n",
    "train_mse = mean_squared_error(y_train, y_train_pred)\n",
    "test_mse  = mean_squared_error(y_test, y_test_pred)\n",
    "\n",
    "train_r2= r2_score(y_train, y_train_pred)\n",
    "test_r2  = r2_score(y_test, y_test_pred)\n",
    "\n",
    "print(\"\\nTrain MSE : \", train_mse, \" | Train R2 : \", train_r2)\n",
    "print(\"Test MSE  : \" , test_mse,  \" | Test R2 : \", test_r2)"
   ]
  },
  {
   "cell_type": "markdown",
   "id": "b0adb3cc",
   "metadata": {},
   "source": [
    "# Random Forest Model."
   ]
  },
  {
   "cell_type": "code",
   "execution_count": null,
   "id": "16edfff3",
   "metadata": {},
   "outputs": [],
   "source": [
    "RForest_Regr_model = RandomForestRegressor(criterion='mse', bootstrap=True, random_state=0,n_jobs=-1)\n",
    "\n",
    "param_grid = {\"n_estimators\" : [10,20,50],\n",
    "              \"max_depth\" : [3,4,5],\n",
    "              \"min_samples_split\" : [3,5,7],\n",
    "              \"min_samples_leaf\" : [3,5,7],\n",
    "              \"max_samples\" : [0.8,0.9,1]}\n",
    "\n",
    "grid_search = GridSearchCV(RForest_Regr_model, param_grid, cv=5, scoring='neg_mean_absolute_error')\n",
    "grid_search.fit(x_train, y_train)\n",
    "print(\"Best Parameters : \", grid_search.best_params_)\n",
    "\n",
    "optimised_RForest_Regr_model = RandomForestRegressor(criterion='mse', bootstrap=True, random_state=0,max_depth=5,\n",
    "                                        max_samples =0.8, n_estimators = 50, min_samples_leaf=3,min_samples_split=5)\n",
    "optimised_RForest_Regr_model.fit(x_train,y_train)\n",
    "\n",
    "y_train_pred = optimised_RForest_Regr_model.predict(x_train)\n",
    "y_test_pred = optimised_RForest_Regr_model.predict(x_test)\n",
    "\n",
    "train_mse = mean_squared_error(y_train, y_train_pred)\n",
    "test_mse  = mean_squared_error(y_test, y_test_pred)\n",
    "\n",
    "train_r2= r2_score(y_train, y_train_pred)\n",
    "test_r2  = r2_score(y_test, y_test_pred)\n",
    "\n",
    "print(\"\\nTrain MSE : \", train_mse, \" | Train R2 : \", train_r2)\n",
    "print(\"Test MSE  : \" , test_mse,  \" | Test R2 : \", test_r2)"
   ]
  },
  {
   "cell_type": "markdown",
   "id": "267a1356",
   "metadata": {},
   "source": [
    "# Gradient Descent Model."
   ]
  },
  {
   "cell_type": "code",
   "execution_count": 21,
   "id": "b93951f0",
   "metadata": {},
   "outputs": [
    {
     "name": "stdout",
     "output_type": "stream",
     "text": [
      "Best Parameters :  {'learning_rate': 0.05, 'max_depth': 4, 'min_samples_split': 3, 'n_estimators': 50}\n",
      "\n",
      "Train MSE :  43824427.358982466  | Train R2 :  0.7247736890153373\n",
      "Test MSE  :  67677199.66579054  | Test R2 :  0.5592198473987899\n"
     ]
    }
   ],
   "source": [
    "GB_Regr_model = GradientBoostingRegressor(loss='ls', criterion='friedman_mse',init= optimised_DT_model,random_state=0)\n",
    "\n",
    "param_grid = {\"max_depth\" : [3,4,5],\n",
    "              \"min_samples_split\" : [3,5,7],\n",
    "              \"n_estimators\" : [10,20,50],\n",
    "              \"learning_rate\" : [0.001, 0.01, 0.05,0.1]}\n",
    "\n",
    "grid_search = GridSearchCV(GB_Regr_model, param_grid, cv=5, scoring='neg_mean_absolute_error')\n",
    "grid_search.fit(x_train, y_train)\n",
    "print(\"Best Parameters : \", grid_search.best_params_)\n",
    "\n",
    "optimised_GB_Regr_model = GradientBoostingRegressor(loss='ls', criterion='friedman_mse',init= optimised_DT_model,random_state=0\n",
    "                                                    ,learning_rate=0.05, max_depth=5, min_samples_split=5,\n",
    "                                                    n_estimators=50)\n",
    "optimised_GB_Regr_model.fit(x_train,y_train)\n",
    "\n",
    "y_train_pred = optimised_GB_Regr_model.predict(x_train)\n",
    "y_test_pred = optimised_GB_Regr_model.predict(x_test)\n",
    "\n",
    "train_mse = mean_squared_error(y_train, y_train_pred)\n",
    "test_mse  = mean_squared_error(y_test, y_test_pred)\n",
    "\n",
    "train_r2= r2_score(y_train, y_train_pred)\n",
    "test_r2  = r2_score(y_test, y_test_pred)\n",
    "\n",
    "print(\"\\nTrain MSE : \", train_mse, \" | Train R2 : \", train_r2)\n",
    "print(\"Test MSE  : \" , test_mse,  \" | Test R2 : \", test_r2)"
   ]
  },
  {
   "cell_type": "markdown",
   "id": "881ec44f",
   "metadata": {},
   "source": [
    "# Ada Boost Model."
   ]
  },
  {
   "cell_type": "code",
   "execution_count": 22,
   "id": "43e7e443",
   "metadata": {},
   "outputs": [
    {
     "name": "stdout",
     "output_type": "stream",
     "text": [
      "Best Parameters :  {'learning_rate': 0.005, 'n_estimators': 100}\n",
      "\n",
      "Train MSE :  54535079.12817386  | Train R2 :  0.6575086190001853\n",
      "Test MSE  :  63606760.252795145  | Test R2 :  0.5857305321563481\n"
     ]
    }
   ],
   "source": [
    "AB_Regr_model = AdaBoostRegressor(base_estimator=optimised_DT_model ,loss='linear',random_state=0)\n",
    "\n",
    "param_grid = {\"n_estimators\" : [10,25,50,100],\n",
    "              \"learning_rate\" : [0.005,0.01, 0.05, 1]}\n",
    "\n",
    "grid_search = GridSearchCV(AB_Regr_model, param_grid, cv=5, scoring='neg_mean_absolute_error')\n",
    "grid_search.fit(x_train, y_train)\n",
    "print(\"Best Parameters : \", grid_search.best_params_)\n",
    "\n",
    "optimised_AB_Regr_model = AdaBoostRegressor(base_estimator=optimised_DT_model ,loss='linear',random_state=0,\n",
    "                                            learning_rate = 0.005, n_estimators = 25)\n",
    "optimised_AB_Regr_model.fit(x_train,y_train)\n",
    "\n",
    "y_train_pred = optimised_AB_Regr_model.predict(x_train)\n",
    "y_test_pred = optimised_AB_Regr_model.predict(x_test)\n",
    "\n",
    "train_mse = mean_squared_error(y_train, y_train_pred)\n",
    "test_mse  = mean_squared_error(y_test, y_test_pred)\n",
    "\n",
    "train_r2= r2_score(y_train, y_train_pred)\n",
    "test_r2  = r2_score(y_test, y_test_pred)\n",
    "\n",
    "print(\"\\nTrain MSE : \", train_mse, \" | Train R2 : \", train_r2)\n",
    "print(\"Test MSE  : \" , test_mse,  \" | Test R2 : \", test_r2)"
   ]
  },
  {
   "cell_type": "markdown",
   "id": "7afcb0dc",
   "metadata": {},
   "source": [
    "#  Final Summary Table.\n",
    "\n",
    "  ## <font color='green'>Regression Models</font>\n",
    "   \n",
    "                                         Train MSE                Train R2                 Test MSE              Test R2\n",
    "    \n",
    "  * Ordinary Least Square (OLS)  :--------------------72336582.59------------------------0.5457-------------------------------- 9995757.09----------------------0.4789 **\n",
    "  * Linear Regression (LR)       :----------------------------72336582.59------------------------0.5457-------------------------------79995757.09----------------------0.4789 *\n",
    "  * KNN Regressor     (KNN)      :-----------------------------------------0.0-------------------------1.0------------------------------------75733213.16----------------------0.5067\n",
    "  * Decision Tree Regressor (DT) :--------------------56617605.23-----------------------0.6444-------------------------------67076223.24----------------------0.5631 ***\n",
    "  \n",
    "## <font color='Red'>Ensemble Models</font>\n",
    "    \n",
    "                                         Train MSE                Train R2                 Test MSE              Test R2\n",
    "       \n",
    "  * Bagging Regressor            :--------------------------------54486765.99----------------------------0.6578--------------------------- 63840498.18------------------------0.4789\n",
    "  * Random Forest Regressor      :----------------------49245556.39----------------------------0.6907--------------------------- 62261004.18------------------------0.5944 ***\n",
    "  * Gradient Boost Regressor     :-----------------------43824427.35----------------------------0.7247--------------------------- 67677199.66------------------------0.5592 *\n",
    "  * Ada Boost Regressor          :-----------------------------54535079.12----------------------------0.6575--------------------------- 63606760.25------------------------0.5857 **"
   ]
  },
  {
   "cell_type": "markdown",
   "id": "af637530",
   "metadata": {},
   "source": [
    "1. In the ensemble model we can conclude that Random Forest Regressor and Ada Boost Regressor out performs the other two enseble model with Random Forest performing slightly better than Ada Boost with higher R2_score and less MSE thats why they have been marked 1st and 2nd preference respectively.\n",
    "2. On the other hand Gradient boost also performs above the mark with lower MSE but a relatively higher R2_score only in training data and not in testing data that is why it has been marked as 3rd preference."
   ]
  },
  {
   "cell_type": "markdown",
   "id": "3f792ca1",
   "metadata": {},
   "source": [
    "* Random Forests are well-suited for capturing non-linear relationships between predictors and the response variable. They achieve this by building a large number of decision trees, each trained on a different subset of the data with random feature selection. The ensemble of trees can collectively model complex non-linear relationships. Gradient Boosting and AdaBoost, while also capable of handling non-linear relationships, may require more iterations to achieve similar performance.\n",
    "*  Random Forests incorporate randomness by using subsets of features and bootstrap sampling during the tree-building process. This randomness promotes model diversity, which can help reduce overfitting and improve generalization performance. Gradient Boosting and AdaBoost, on the other hand, sequentially build models by focusing on the misclassified or residual samples, which can potentially lead to overfitting if not properly regularized.\n",
    "* Random Forests incorporate randomness by using subsets of features and bootstrap sampling during the tree-building process. This randomness promotes model diversity, which can help reduce overfitting and improve generalization performance. Gradient Boosting and AdaBoost, on the other hand, sequentially build models by focusing on the misclassified or residual samples, which can potentially lead to overfitting if not properly regularized."
   ]
  },
  {
   "cell_type": "code",
   "execution_count": null,
   "id": "d96e7310",
   "metadata": {},
   "outputs": [],
   "source": []
  }
 ],
 "metadata": {
  "kernelspec": {
   "display_name": "Python 3",
   "language": "python",
   "name": "python3"
  },
  "language_info": {
   "codemirror_mode": {
    "name": "ipython",
    "version": 3
   },
   "file_extension": ".py",
   "mimetype": "text/x-python",
   "name": "python",
   "nbconvert_exporter": "python",
   "pygments_lexer": "ipython3",
   "version": "3.8.8"
  }
 },
 "nbformat": 4,
 "nbformat_minor": 5
}
